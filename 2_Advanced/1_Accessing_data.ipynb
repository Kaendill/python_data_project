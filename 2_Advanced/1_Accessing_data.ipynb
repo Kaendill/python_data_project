import pandas as pd 
import matplotlib.pyplot as plt
from datasets import load_dataset

# loading the data
dataset= load_dataset('lukebarousse/data_jobs')
df= dataset['train'].to_pandas()

# converting to the right time value
df['job_posted_date'] =
