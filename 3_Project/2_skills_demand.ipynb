{
 "cells": [
  {
   "cell_type": "markdown",
   "metadata": {},
   "source": [
    "What Are The Most Demanded Skills For The 3 Most Popular Data Job Roles?\n",
    "\n",
    "1. clean job_skills column\n",
    "2. calculate skills count based on job_title_short\n",
    "3. Calculate Skills Percentage\n",
    "4. Plot The findings"
   ]
  },
  {
   "cell_type": "code",
   "execution_count": 1,
   "metadata": {},
   "outputs": [
    {
     "name": "stderr",
     "output_type": "stream",
     "text": [
      "c:\\Users\\ekene\\anaconda3\\envs\\python_project\\Lib\\site-packages\\tqdm\\auto.py:21: TqdmWarning: IProgress not found. Please update jupyter and ipywidgets. See https://ipywidgets.readthedocs.io/en/stable/user_install.html\n",
      "  from .autonotebook import tqdm as notebook_tqdm\n"
     ]
    }
   ],
   "source": [
    "import pandas as pd \n",
    "import matplotlib.pyplot as plt\n",
    "from datasets import load_dataset\n",
    "import ast\n",
    "import seaborn as sns\n",
    "# loading the data\n",
    "dataset= load_dataset('lukebarousse/data_jobs')\n",
    "df= dataset['train'].to_pandas()\n",
    "\n",
    "# converting to the right time value\n",
    "\n",
    "df['job_posted_date'] = pd.to_datetime(df['job_posted_date'])\n",
    "\n",
    "# converting job_skills to a list\n",
    "df['job_skills'] = df['job_skills'].apply(lambda skills : ast.literal_eval(skills) if pd.notna(skills) else skills)"
   ]
  },
  {
   "cell_type": "code",
   "execution_count": 2,
   "metadata": {},
   "outputs": [],
   "source": [
    "df_NG = df[df['job_country'] == 'Nigeria']"
   ]
  },
  {
   "cell_type": "code",
   "execution_count": 3,
   "metadata": {},
   "outputs": [],
   "source": [
    "df_skills = df_NG.explode('job_skills')"
   ]
  },
  {
   "cell_type": "code",
   "execution_count": 4,
   "metadata": {},
   "outputs": [
    {
     "data": {
      "text/html": [
       "<div>\n",
       "<style scoped>\n",
       "    .dataframe tbody tr th:only-of-type {\n",
       "        vertical-align: middle;\n",
       "    }\n",
       "\n",
       "    .dataframe tbody tr th {\n",
       "        vertical-align: top;\n",
       "    }\n",
       "\n",
       "    .dataframe thead th {\n",
       "        text-align: right;\n",
       "    }\n",
       "</style>\n",
       "<table border=\"1\" class=\"dataframe\">\n",
       "  <thead>\n",
       "    <tr style=\"text-align: right;\">\n",
       "      <th></th>\n",
       "      <th>job_title_short</th>\n",
       "      <th>job_skills</th>\n",
       "    </tr>\n",
       "  </thead>\n",
       "  <tbody>\n",
       "    <tr>\n",
       "      <th>255</th>\n",
       "      <td>Machine Learning Engineer</td>\n",
       "      <td>python</td>\n",
       "    </tr>\n",
       "    <tr>\n",
       "      <th>255</th>\n",
       "      <td>Machine Learning Engineer</td>\n",
       "      <td>c++</td>\n",
       "    </tr>\n",
       "    <tr>\n",
       "      <th>255</th>\n",
       "      <td>Machine Learning Engineer</td>\n",
       "      <td>pytorch</td>\n",
       "    </tr>\n",
       "    <tr>\n",
       "      <th>255</th>\n",
       "      <td>Machine Learning Engineer</td>\n",
       "      <td>tensorflow</td>\n",
       "    </tr>\n",
       "    <tr>\n",
       "      <th>255</th>\n",
       "      <td>Machine Learning Engineer</td>\n",
       "      <td>nltk</td>\n",
       "    </tr>\n",
       "    <tr>\n",
       "      <th>...</th>\n",
       "      <td>...</td>\n",
       "      <td>...</td>\n",
       "    </tr>\n",
       "    <tr>\n",
       "      <th>779923</th>\n",
       "      <td>Data Scientist</td>\n",
       "      <td>spark</td>\n",
       "    </tr>\n",
       "    <tr>\n",
       "      <th>779923</th>\n",
       "      <td>Data Scientist</td>\n",
       "      <td>tableau</td>\n",
       "    </tr>\n",
       "    <tr>\n",
       "      <th>782054</th>\n",
       "      <td>Data Analyst</td>\n",
       "      <td>power bi</td>\n",
       "    </tr>\n",
       "    <tr>\n",
       "      <th>782054</th>\n",
       "      <td>Data Analyst</td>\n",
       "      <td>excel</td>\n",
       "    </tr>\n",
       "    <tr>\n",
       "      <th>782054</th>\n",
       "      <td>Data Analyst</td>\n",
       "      <td>sap</td>\n",
       "    </tr>\n",
       "  </tbody>\n",
       "</table>\n",
       "<p>5101 rows × 2 columns</p>\n",
       "</div>"
      ],
      "text/plain": [
       "                  job_title_short  job_skills\n",
       "255     Machine Learning Engineer      python\n",
       "255     Machine Learning Engineer         c++\n",
       "255     Machine Learning Engineer     pytorch\n",
       "255     Machine Learning Engineer  tensorflow\n",
       "255     Machine Learning Engineer        nltk\n",
       "...                           ...         ...\n",
       "779923             Data Scientist       spark\n",
       "779923             Data Scientist     tableau\n",
       "782054               Data Analyst    power bi\n",
       "782054               Data Analyst       excel\n",
       "782054               Data Analyst         sap\n",
       "\n",
       "[5101 rows x 2 columns]"
      ]
     },
     "execution_count": 4,
     "metadata": {},
     "output_type": "execute_result"
    }
   ],
   "source": [
    "df_skills[['job_title_short', 'job_skills']]"
   ]
  },
  {
   "cell_type": "code",
   "execution_count": 5,
   "metadata": {},
   "outputs": [
    {
     "data": {
      "text/html": [
       "<div>\n",
       "<style scoped>\n",
       "    .dataframe tbody tr th:only-of-type {\n",
       "        vertical-align: middle;\n",
       "    }\n",
       "\n",
       "    .dataframe tbody tr th {\n",
       "        vertical-align: top;\n",
       "    }\n",
       "\n",
       "    .dataframe thead th {\n",
       "        text-align: right;\n",
       "    }\n",
       "</style>\n",
       "<table border=\"1\" class=\"dataframe\">\n",
       "  <thead>\n",
       "    <tr style=\"text-align: right;\">\n",
       "      <th></th>\n",
       "      <th>job_title_short</th>\n",
       "      <th>job_skills</th>\n",
       "      <th>skills_count</th>\n",
       "    </tr>\n",
       "  </thead>\n",
       "  <tbody>\n",
       "    <tr>\n",
       "      <th>335</th>\n",
       "      <td>Data Scientist</td>\n",
       "      <td>python</td>\n",
       "      <td>139</td>\n",
       "    </tr>\n",
       "    <tr>\n",
       "      <th>125</th>\n",
       "      <td>Data Analyst</td>\n",
       "      <td>excel</td>\n",
       "      <td>130</td>\n",
       "    </tr>\n",
       "    <tr>\n",
       "      <th>175</th>\n",
       "      <td>Data Analyst</td>\n",
       "      <td>sql</td>\n",
       "      <td>117</td>\n",
       "    </tr>\n",
       "    <tr>\n",
       "      <th>246</th>\n",
       "      <td>Data Engineer</td>\n",
       "      <td>python</td>\n",
       "      <td>113</td>\n",
       "    </tr>\n",
       "    <tr>\n",
       "      <th>261</th>\n",
       "      <td>Data Engineer</td>\n",
       "      <td>sql</td>\n",
       "      <td>109</td>\n",
       "    </tr>\n",
       "    <tr>\n",
       "      <th>...</th>\n",
       "      <td>...</td>\n",
       "      <td>...</td>\n",
       "      <td>...</td>\n",
       "    </tr>\n",
       "    <tr>\n",
       "      <th>167</th>\n",
       "      <td>Data Analyst</td>\n",
       "      <td>seaborn</td>\n",
       "      <td>1</td>\n",
       "    </tr>\n",
       "    <tr>\n",
       "      <th>481</th>\n",
       "      <td>Senior Data Engineer</td>\n",
       "      <td>terraform</td>\n",
       "      <td>1</td>\n",
       "    </tr>\n",
       "    <tr>\n",
       "      <th>482</th>\n",
       "      <td>Senior Data Engineer</td>\n",
       "      <td>vmware</td>\n",
       "      <td>1</td>\n",
       "    </tr>\n",
       "    <tr>\n",
       "      <th>483</th>\n",
       "      <td>Senior Data Engineer</td>\n",
       "      <td>word</td>\n",
       "      <td>1</td>\n",
       "    </tr>\n",
       "    <tr>\n",
       "      <th>0</th>\n",
       "      <td>Business Analyst</td>\n",
       "      <td>asana</td>\n",
       "      <td>1</td>\n",
       "    </tr>\n",
       "  </tbody>\n",
       "</table>\n",
       "<p>628 rows × 3 columns</p>\n",
       "</div>"
      ],
      "text/plain": [
       "          job_title_short job_skills  skills_count\n",
       "335        Data Scientist     python           139\n",
       "125          Data Analyst      excel           130\n",
       "175          Data Analyst        sql           117\n",
       "246         Data Engineer     python           113\n",
       "261         Data Engineer        sql           109\n",
       "..                    ...        ...           ...\n",
       "167          Data Analyst    seaborn             1\n",
       "481  Senior Data Engineer  terraform             1\n",
       "482  Senior Data Engineer     vmware             1\n",
       "483  Senior Data Engineer       word             1\n",
       "0        Business Analyst      asana             1\n",
       "\n",
       "[628 rows x 3 columns]"
      ]
     },
     "execution_count": 5,
     "metadata": {},
     "output_type": "execute_result"
    }
   ],
   "source": [
    "df_skills_count = df_skills.groupby(['job_title_short','job_skills']).size()\n",
    "df_skills_count = df_skills_count.reset_index(name= 'skills_count')\n",
    "df_skills_count.sort_values(by= 'skills_count', ascending= False, inplace= True)\n",
    "df_skills_count"
   ]
  },
  {
   "cell_type": "code",
   "execution_count": 6,
   "metadata": {},
   "outputs": [
    {
     "data": {
      "text/plain": [
       "['Data Analyst', 'Data Engineer', 'Data Scientist']"
      ]
     },
     "execution_count": 6,
     "metadata": {},
     "output_type": "execute_result"
    }
   ],
   "source": [
    "job_titles = df_skills_count['job_title_short'].unique().tolist()\n",
    "job_titles = sorted(job_titles[:3])\n",
    "job_titles"
   ]
  },
  {
   "cell_type": "code",
   "execution_count": 7,
   "metadata": {},
   "outputs": [
    {
     "data": {
      "image/png": "[encoded data removed]",
      "text/plain": [
       "<Figure size 640x480 with 3 Axes>"
      ]
     },
     "metadata": {},
     "output_type": "display_data"
    }
   ],
   "source": [
    "fig, ax= plt.subplots(len(job_titles), 1)\n",
    "\n",
    "for i, job_title in enumerate(job_titles):\n",
    "    df_plot = df_skills_count[df_skills_count['job_title_short'] == job_title].head(5)\n",
    "    df_plot.plot(kind= 'barh', x= 'job_skills', y= 'skills_count', ax= ax[i], title= job_title)\n",
    "    ax[i].invert_yaxis()\n",
    "    ax[i].set_ylabel('')\n",
    "    ax[i].legend().set_visible(False)\n",
    "\n",
    "fig.suptitle('Count of Top Skills in Job postings', fontsize= 12, color= 'red', weight= \"bold\")\n",
    "fig.tight_layout(h_pad= 0.5)\n",
    "plt.show()    "
   ]
  },
  {
   "cell_type": "code",
   "execution_count": 8,
   "metadata": {},
   "outputs": [],
   "source": [
    "df_job_total = df_NG['job_title_short'].value_counts()\n",
    "df_job_total = df_job_total.reset_index(name= 'jobs_total')"
   ]
  },
  {
   "cell_type": "code",
   "execution_count": 9,
   "metadata": {},
   "outputs": [],
   "source": [
    "df_skill_perc = df_skills_count.merge(df_job_total, how= 'left', on= 'job_title_short')"
   ]
  },
  {
   "cell_type": "code",
   "execution_count": 10,
   "metadata": {},
   "outputs": [
    {
     "data": {
      "text/html": [
       "<div>\n",
       "<style scoped>\n",
       "    .dataframe tbody tr th:only-of-type {\n",
       "        vertical-align: middle;\n",
       "    }\n",
       "\n",
       "    .dataframe tbody tr th {\n",
       "        vertical-align: top;\n",
       "    }\n",
       "\n",
       "    .dataframe thead th {\n",
       "        text-align: right;\n",
       "    }\n",
       "</style>\n",
       "<table border=\"1\" class=\"dataframe\">\n",
       "  <thead>\n",
       "    <tr style=\"text-align: right;\">\n",
       "      <th></th>\n",
       "      <th>job_title_short</th>\n",
       "      <th>job_skills</th>\n",
       "      <th>skills_count</th>\n",
       "      <th>jobs_total</th>\n",
       "      <th>skills_percent</th>\n",
       "    </tr>\n",
       "  </thead>\n",
       "  <tbody>\n",
       "    <tr>\n",
       "      <th>0</th>\n",
       "      <td>Data Scientist</td>\n",
       "      <td>python</td>\n",
       "      <td>139</td>\n",
       "      <td>205</td>\n",
       "      <td>67.804878</td>\n",
       "    </tr>\n",
       "    <tr>\n",
       "      <th>1</th>\n",
       "      <td>Data Analyst</td>\n",
       "      <td>excel</td>\n",
       "      <td>130</td>\n",
       "      <td>304</td>\n",
       "      <td>42.763158</td>\n",
       "    </tr>\n",
       "    <tr>\n",
       "      <th>2</th>\n",
       "      <td>Data Analyst</td>\n",
       "      <td>sql</td>\n",
       "      <td>117</td>\n",
       "      <td>304</td>\n",
       "      <td>38.486842</td>\n",
       "    </tr>\n",
       "    <tr>\n",
       "      <th>3</th>\n",
       "      <td>Data Engineer</td>\n",
       "      <td>python</td>\n",
       "      <td>113</td>\n",
       "      <td>190</td>\n",
       "      <td>59.473684</td>\n",
       "    </tr>\n",
       "    <tr>\n",
       "      <th>4</th>\n",
       "      <td>Data Engineer</td>\n",
       "      <td>sql</td>\n",
       "      <td>109</td>\n",
       "      <td>190</td>\n",
       "      <td>57.368421</td>\n",
       "    </tr>\n",
       "    <tr>\n",
       "      <th>...</th>\n",
       "      <td>...</td>\n",
       "      <td>...</td>\n",
       "      <td>...</td>\n",
       "      <td>...</td>\n",
       "      <td>...</td>\n",
       "    </tr>\n",
       "    <tr>\n",
       "      <th>623</th>\n",
       "      <td>Data Analyst</td>\n",
       "      <td>seaborn</td>\n",
       "      <td>1</td>\n",
       "      <td>304</td>\n",
       "      <td>0.328947</td>\n",
       "    </tr>\n",
       "    <tr>\n",
       "      <th>624</th>\n",
       "      <td>Senior Data Engineer</td>\n",
       "      <td>terraform</td>\n",
       "      <td>1</td>\n",
       "      <td>33</td>\n",
       "      <td>3.030303</td>\n",
       "    </tr>\n",
       "    <tr>\n",
       "      <th>625</th>\n",
       "      <td>Senior Data Engineer</td>\n",
       "      <td>vmware</td>\n",
       "      <td>1</td>\n",
       "      <td>33</td>\n",
       "      <td>3.030303</td>\n",
       "    </tr>\n",
       "    <tr>\n",
       "      <th>626</th>\n",
       "      <td>Senior Data Engineer</td>\n",
       "      <td>word</td>\n",
       "      <td>1</td>\n",
       "      <td>33</td>\n",
       "      <td>3.030303</td>\n",
       "    </tr>\n",
       "    <tr>\n",
       "      <th>627</th>\n",
       "      <td>Business Analyst</td>\n",
       "      <td>asana</td>\n",
       "      <td>1</td>\n",
       "      <td>73</td>\n",
       "      <td>1.369863</td>\n",
       "    </tr>\n",
       "  </tbody>\n",
       "</table>\n",
       "<p>628 rows × 5 columns</p>\n",
       "</div>"
      ],
      "text/plain": [
       "          job_title_short job_skills  skills_count  jobs_total  skills_percent\n",
       "0          Data Scientist     python           139         205       67.804878\n",
       "1            Data Analyst      excel           130         304       42.763158\n",
       "2            Data Analyst        sql           117         304       38.486842\n",
       "3           Data Engineer     python           113         190       59.473684\n",
       "4           Data Engineer        sql           109         190       57.368421\n",
       "..                    ...        ...           ...         ...             ...\n",
       "623          Data Analyst    seaborn             1         304        0.328947\n",
       "624  Senior Data Engineer  terraform             1          33        3.030303\n",
       "625  Senior Data Engineer     vmware             1          33        3.030303\n",
       "626  Senior Data Engineer       word             1          33        3.030303\n",
       "627      Business Analyst      asana             1          73        1.369863\n",
       "\n",
       "[628 rows x 5 columns]"
      ]
     },
     "execution_count": 10,
     "metadata": {},
     "output_type": "execute_result"
    }
   ],
   "source": [
    "df_skill_perc['skills_percent']= 100 * df_skill_perc['skills_count']/df_skill_perc['jobs_total']\n",
    "df_skill_perc"
   ]
  },
  {
   "cell_type": "code",
   "execution_count": 11,
   "metadata": {},
   "outputs": [
    {
     "data": {
      "text/plain": [
       "<Figure size 1500x600 with 0 Axes>"
      ]
     },
     "metadata": {},
     "output_type": "display_data"
    },
    {
     "data": {
      "image/png": "[encoded data removed]",
      "text/plain": [
       "<Figure size 640x480 with 3 Axes>"
      ]
     },
     "metadata": {},
     "output_type": "display_data"
    }
   ],
   "source": [
    "plt.figure(figsize= (15,6))\n",
    "fig, ax= plt.subplots(len(job_titles), 1)\n",
    "sns.set_theme(style= 'ticks')\n",
    "for i, job_title in enumerate(job_titles):\n",
    "    df_plot = df_skill_perc[df_skill_perc['job_title_short'] == job_title].head(5)\n",
    "    sns.barplot(df_plot, x='skills_percent', y= 'job_skills', hue= 'skills_count', palette='dark:r_r', ax=ax[i] )\n",
    "    ax[i].set_ylabel('')\n",
    "    ax[i].legend().set_visible(False)\n",
    "    ax[i].set_title(job_title)\n",
    "    ax[1].set_xlabel('')\n",
    "    ax[i].set_xlim(0,70)\n",
    "\n",
    "    for n, v in enumerate(df_plot['skills_percent']):\n",
    "        ax[i].text(v+1, n,f'{v:.0f}%', va= 'center', fontsize= 10)\n",
    "\n",
    "    if i!= len(job_titles) - 1:\n",
    "      ax[i].set_xticks([])\n",
    "\n",
    "    ax[0].set_xlabel('')  \n",
    "\n",
    "fig.suptitle('Chances of Required Skills For Job Postings', fontsize= 15, color= 'red', weight= \"bold\")\n",
    "fig.tight_layout(h_pad= 0.5)\n",
    "plt.show() "
   ]
  },
  {
   "cell_type": "code",
   "execution_count": 12,
   "metadata": {},
   "outputs": [],
   "source": [
    "###"
   ]
  }
 ],
 "metadata": {
  "kernelspec": {
   "display_name": "python_project",
   "language": "python",
   "name": "python3"
  },
  "language_info": {
   "codemirror_mode": {
    "name": "ipython",
    "version": 3
   },
   "file_extension": ".py",
   "mimetype": "text/x-python",
   "name": "python",
   "nbconvert_exporter": "python",
   "pygments_lexer": "ipython3",
   "version": "3.11.10"
  }
 },
 "nbformat": 4,
 "nbformat_minor": 2
}
